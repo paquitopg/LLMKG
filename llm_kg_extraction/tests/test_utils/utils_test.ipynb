{
 "cells": [
  {
   "cell_type": "code",
   "execution_count": 5,
   "id": "30d4177f",
   "metadata": {},
   "outputs": [],
   "source": [
    "import sys \n",
    "import os"
   ]
  },
  {
   "cell_type": "code",
   "execution_count": null,
   "id": "9535489d",
   "metadata": {},
   "outputs": [],
   "source": [
    "project_root = os.path.abspath(os.path.join(os.getcwd(), \"../../../\"))\n",
    "if project_root not in sys.path:\n",
    "    sys.path.insert(0, project_root)\n",
    "\n",
    "from llm_kg_extraction.utils import document_utils"
   ]
  },
  {
   "cell_type": "code",
   "execution_count": 8,
   "id": "7613de7a",
   "metadata": {},
   "outputs": [],
   "source": [
    "pdf = document_utils.PDFProcessor(\"C:/PE/pages/HERMES/Project Hermès - Teaser.pdf\")"
   ]
  },
  {
   "cell_type": "code",
   "execution_count": 14,
   "id": "76a91904",
   "metadata": {},
   "outputs": [],
   "source": [
    "content = pdf.get_page_content(3)"
   ]
  },
  {
   "cell_type": "code",
   "execution_count": 15,
   "id": "90538195",
   "metadata": {},
   "outputs": [
    {
     "data": {
      "text/plain": [
       "'3\\n1.8 \\n3.6 \\n26.7 \\n33.6 \\n36.3 \\n41.6 \\n50.6 \\n61.6 \\n77.0 \\n2019\\n2020\\n2021\\n2022f\\n2023e\\n2024e\\n2025e\\n2026e\\n2027e\\nQ1-2023 \\nEBITDA \\nbreakeven\\nHighly modular one-stop-shop unified commerce solutions, generating €33.6m of \\nnormative revenue in 2022f, i.e., +31.7m€ in 3 years\\n1. Tier 1 clients generate +€1bn revenue; Tier 2 clients generate between €200m and €1bn revenue; Tier 3 clients generate \\nless than €200m revenue\\nSource: Company\\nKey considerations\\n\\uf0a7One-stop-shop unified commerce solutions, with three\\ncomplementary offers:\\n1.\\nCash-in: management of all cash-in journeys\\n2.\\nFulfillment: capitalization on stores and logistic network\\nfor quick, high quality and efficient deliveries\\n3.\\nLoyalty and Promotion: management of omnichannel\\nCustomer Experience\\n\\uf0a7Modular\\nand\\nflexible\\nsolutions\\nstructured\\naround\\n10\\nmodules and 3.5k features adapted to all client’s needs\\n\\uf0a7Plug, Play and Deploy solution thanks to its agile API-\\nbased platform\\n\\uf0a7Diversified portfolio of c.105 blue-chip large and small\\nretailers, in 4 geographical areas and spreading over 4\\nmain end-markets: food retail, specialty retail, hospitality,\\nand luxury/cosmetic\\n\\uf0a7Simple and recurring business model based on a mix of\\nrecurring software subscription revenue and additional\\nservice commissions (set-up, training, trading, etc.)\\n\\uf0a7Proven consolidation platform with acquisitions of an IT\\nand software integration company and a Cash-in company in\\n2021, as well as minority equity stake in a Loyalty and\\nPromotion company in 2020\\nNormative revenue evolution (2019-2027e, €m, accounting view)\\nKPIs\\n€80bn\\ntotal value of \\ntransactions \\nmanaged\\n2\\nM&A operations \\nin 2021\\n63%\\nRecurring \\nnormative \\nrevenue 2022\\n+€31.7m\\n+18.1% p.a.\\nAwards\\nType of clients1\\nTier 1 \\n63%\\nTier 2 \\n31%\\nTier 3 \\n5%\\nOther \\n1%\\n'"
      ]
     },
     "execution_count": 15,
     "metadata": {},
     "output_type": "execute_result"
    }
   ],
   "source": [
    "content"
   ]
  }
 ],
 "metadata": {
  "kernelspec": {
   "display_name": "llm-kg-extraction-qNCWWO7V-py3.12",
   "language": "python",
   "name": "python3"
  },
  "language_info": {
   "codemirror_mode": {
    "name": "ipython",
    "version": 3
   },
   "file_extension": ".py",
   "mimetype": "text/x-python",
   "name": "python",
   "nbconvert_exporter": "python",
   "pygments_lexer": "ipython3",
   "version": "3.12.10"
  }
 },
 "nbformat": 4,
 "nbformat_minor": 5
}
