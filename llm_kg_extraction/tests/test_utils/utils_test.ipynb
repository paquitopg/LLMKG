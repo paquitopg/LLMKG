{
 "cells": [
  {
   "cell_type": "code",
   "execution_count": 2,
   "id": "30d4177f",
   "metadata": {},
   "outputs": [],
   "source": [
    "import sys \n",
    "import os"
   ]
  },
  {
   "cell_type": "code",
   "execution_count": 3,
   "id": "9535489d",
   "metadata": {},
   "outputs": [],
   "source": [
    "project_root = os.path.abspath(os.path.join(os.getcwd(), \"../../../\"))\n",
    "if project_root not in sys.path:\n",
    "    sys.path.insert(0, project_root)\n",
    "\n",
    "from llm_kg_extraction.utils import document_utils"
   ]
  },
  {
   "cell_type": "code",
   "execution_count": 4,
   "id": "7613de7a",
   "metadata": {},
   "outputs": [],
   "source": [
    "pdf = document_utils.PDFProcessor(\"C:/PE/pages/HERMES/Project Hermès - Teaser.pdf\")"
   ]
  },
  {
   "cell_type": "code",
   "execution_count": 5,
   "id": "76a91904",
   "metadata": {},
   "outputs": [
    {
     "data": {
      "text/plain": [
       "'6 pages extracted to C:\\\\PE\\\\pages\\\\HERMES\\\\PDF'"
      ]
     },
     "execution_count": 5,
     "metadata": {},
     "output_type": "execute_result"
    }
   ],
   "source": [
    "# extract pages individually\n",
    "pdf.extract_pages_as_pdfs(output_dir=\"C:/PE/pages/HERMES/PDF\")"
   ]
  }
 ],
 "metadata": {
  "kernelspec": {
   "display_name": "llm-kg-extraction-qNCWWO7V-py3.12",
   "language": "python",
   "name": "python3"
  },
  "language_info": {
   "codemirror_mode": {
    "name": "ipython",
    "version": 3
   },
   "file_extension": ".py",
   "mimetype": "text/x-python",
   "name": "python",
   "nbconvert_exporter": "python",
   "pygments_lexer": "ipython3",
   "version": "3.12.10"
  }
 },
 "nbformat": 4,
 "nbformat_minor": 5
}
