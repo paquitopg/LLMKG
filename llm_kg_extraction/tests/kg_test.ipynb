{
 "cells": [
  {
   "cell_type": "code",
   "execution_count": 7,
   "id": "10a65a87",
   "metadata": {},
   "outputs": [],
   "source": [
    "import sys\n",
    "import os\n",
    "sys.path.append(os.path.abspath('..'))"
   ]
  },
  {
   "cell_type": "code",
   "execution_count": 10,
   "id": "116b8034",
   "metadata": {},
   "outputs": [],
   "source": [
    "from llm_client import AzureOpenAIClient\n",
    "from time import time\n",
    "from KG_visualizer import KnowledgeGraphVisualizer\n",
    "from company_identifier import CompanyIdentifier\n",
    "from dotenv import load_dotenv\n",
    "from pathlib import Path\n",
    "from ontology.loader import PEKGOntology\n",
    "from utils.pdf_utils import PDFProcessor\n",
    "from utils.kg_utils import (\n",
    "    merge_knowledge_graphs, merge_multiple_knowledge_graphs, \n",
    "    clean_knowledge_graph, normalize_entity_ids\n",
    ")\n",
    "\n",
    "load_dotenv()\n",
    "\n",
    "class FinancialKGBuilder:\n",
    "    \"\"\"\n",
    "    A unified class to build financial knowledge graphs from PDF documents using Azure OpenAI.\n",
    "    \n",
    "    It supports:\n",
    "    - Text-only extraction: Processes text content from PDF documents\n",
    "    - Multimodal extraction: Processes both text and visual elements (tables, charts, etc.)\n",
    "    \n",
    "    Construction modes:\n",
    "    - \"iterative\": Processes the PDF page by page, using previous pages' graphs as context\n",
    "    - \"onego\": Processes all content at once or independently and then merges results\n",
    "    - \"parallel\": Processes pages independently in parallel using multiple LLM instances\n",
    "    \n",
    "    The class provides functionality to extract, merge, consolidate, and visualize \n",
    "    knowledge graphs based on a predefined ontology.\n",
    "    \"\"\"\n",
    "    \n",
    "    def __init__(\n",
    "        self, \n",
    "        model_name, \n",
    "        deployment_name, \n",
    "        project_name, \n",
    "        construction_mode=\"iterative\",\n",
    "        extraction_mode=\"text\",\n",
    "        max_workers=4,  # Number of parallel workers for parallel mode\n",
    "        #ontology_path: str = Path(__file__).resolve().parent / \"ontology\" / \"pekg_ontology.yaml\"\n",
    "    ):\n",
    "        \"\"\"\n",
    "        Initialize the FinancialKGBuilder with the model name and deployment name.\n",
    "        \n",
    "        Args:\n",
    "            model_name (str): The name of the model to be used for extraction.\n",
    "            deployment_name (str): The name of the deployment in Azure OpenAI.\n",
    "            project_name (str): The name of the project for file naming.\n",
    "            construction_mode (str): \"iterative\", \"onego\", or \"parallel\" for the KG construction approach.\n",
    "            extraction_mode (str): Either \"text\" or \"multimodal\" for the extraction method.\n",
    "            max_workers (int): Maximum number of parallel workers (for parallel mode only).\n",
    "            ontology_path (str): Path to the ontology file.\n",
    "        \"\"\"\n",
    "        self.model_name = model_name\n",
    "        self.project_name = project_name\n",
    "        self.llm = AzureOpenAIClient(model_name=model_name)\n",
    "        self.deployment_name = deployment_name\n",
    "        #self.ontology = PEKGOntology(ontology_path)\n",
    "        self.pdf_path = \"C:/PE/infomemo/systran/Project System - Information Memorandum - March 2023 - ChapsVision.pdf\"\n",
    "        self.page_dpi = 300  # For image rendering in multimodal mode\n",
    "        self.vizualizer = KnowledgeGraphVisualizer()\n",
    "        self.pdf_processor = PDFProcessor(self.pdf_path)\n",
    "        self.max_workers = max_workers\n",
    "        \n",
    "        # Validate construction mode\n",
    "        if construction_mode not in [\"iterative\", \"onego\", \"parallel\"]:\n",
    "            raise ValueError(\"construction_mode must be one of: 'iterative', 'onego', 'parallel'\")\n",
    "        self.construction_mode = construction_mode\n",
    "        \n",
    "        # Validate extraction mode\n",
    "        if extraction_mode not in [\"text\", \"multimodal\"]:\n",
    "            raise ValueError(\"extraction_mode must be either 'text' or 'multimodal'\")\n",
    "        self.extraction_mode = extraction_mode\n",
    "\n",
    "        # Identify the target company and advisory firms\n",
    "        start_time = time()\n",
    "        print(f\"Identifying target company and advisory firms for project '{project_name}'...\")\n",
    "        self.company_identifier = CompanyIdentifier(self.llm, self.pdf_processor)\n",
    "        self.companies_info = self.company_identifier.identify_companies(project_name)\n",
    "        end_time = time()\n",
    "        print(f\"Company identification completed in {end_time - start_time:.2f} seconds.\")\n",
    "        print(f\"Identified target company: {self.companies_info['target_company']['name']}\")\n",
    "        print(f\"Identified advisory firms: {[firm['name'] for firm in self.companies_info['advisory_firms']]}\")\n",
    "        print(f\"Project codename: {self.companies_info['project_codename']}\")"
   ]
  },
  {
   "cell_type": "code",
   "execution_count": 11,
   "id": "dcd5d7f7",
   "metadata": {},
   "outputs": [
    {
     "name": "stdout",
     "output_type": "stream",
     "text": [
      "Identifying target company and advisory firms for project 'System'...\n",
      "Company identification completed in 1.50 seconds.\n",
      "Identified target company: Systran SAS\n",
      "Identified advisory firms: ['Rothschild & Co', 'Samsung Securities']\n",
      "Project codename: System\n"
     ]
    }
   ],
   "source": [
    "builer = FinancialKGBuilder(\n",
    "    model_name=\"gpt-4.1\",\n",
    "    deployment_name=os.getenv(f\"AZURE_DEPLOYMENT_NAME_{\"gpt-4.1\"}\"),\n",
    "    project_name=\"System\",\n",
    "    construction_mode=\"iterative\",\n",
    "    extraction_mode=\"text\"\n",
    ")"
   ]
  }
 ],
 "metadata": {
  "kernelspec": {
   "display_name": "llm-kg-extraction-qNCWWO7V-py3.12",
   "language": "python",
   "name": "python3"
  },
  "language_info": {
   "codemirror_mode": {
    "name": "ipython",
    "version": 3
   },
   "file_extension": ".py",
   "mimetype": "text/x-python",
   "name": "python",
   "nbconvert_exporter": "python",
   "pygments_lexer": "ipython3",
   "version": "3.12.10"
  }
 },
 "nbformat": 4,
 "nbformat_minor": 5
}
