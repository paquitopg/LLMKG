{
 "cells": [
  {
   "cell_type": "code",
   "execution_count": 4,
   "id": "82596073",
   "metadata": {},
   "outputs": [
    {
     "name": "stderr",
     "output_type": "stream",
     "text": [
      "c:\\Users\\PacoGoze\\AppData\\Local\\pypoetry\\Cache\\virtualenvs\\llm-kg-extraction-qNCWWO7V-py3.12\\Lib\\site-packages\\tqdm\\auto.py:21: TqdmWarning: IProgress not found. Please update jupyter and ipywidgets. See https://ipywidgets.readthedocs.io/en/stable/user_install.html\n",
      "  from .autonotebook import tqdm as notebook_tqdm\n"
     ]
    }
   ],
   "source": [
    "import sys, os\n",
    "from pathlib import Path    \n",
    "from dotenv import load_dotenv\n",
    "\n",
    "load_dotenv()\n",
    "\n",
    "# Add the parent directory to the system path so that _1_document_ingestion can be found\n",
    "sys.path.append(str(Path.cwd().parent))\n",
    "\n",
    "# Now import the module\n",
    "from _1_document_ingestion import document_classifier\n",
    "from _1_document_ingestion.pdf_parser import PDFParser"
   ]
  },
  {
   "cell_type": "code",
   "execution_count": 5,
   "id": "e019fe5e",
   "metadata": {},
   "outputs": [],
   "source": [
    "# Since you've already added the parent directory to sys.path in cell 0,\n",
    "# import the modules without using relative imports\n",
    "from llm_integrations import vertex_llm"
   ]
  },
  {
   "cell_type": "code",
   "execution_count": 6,
   "id": "367fab23",
   "metadata": {},
   "outputs": [
    {
     "name": "stdout",
     "output_type": "stream",
     "text": [
      "Initializing google.generativeai.GenerativeModel with model name: models/gemini-2.5-flash-preview-05-20\n",
      " (Relying on ADC with GOOGLE_CLOUD_PROJECT='singular-backup-459913-j9' and location='us-central1' for Vertex AI routing if applicable)\n",
      "Successfully initialized google.generativeai.GenerativeModel for models/gemini-2.5-flash-preview-05-20\n"
     ]
    }
   ],
   "source": [
    "llm = vertex_llm.VertexLLM(model_name=\"gemini-2.5-flash-preview-05-20\")"
   ]
  },
  {
   "cell_type": "code",
   "execution_count": 7,
   "id": "a5f92a37",
   "metadata": {},
   "outputs": [],
   "source": [
    "categories = [\"financial_teaser\", \"financial_report\", \"technical_documentation\"]"
   ]
  },
  {
   "cell_type": "code",
   "execution_count": 8,
   "id": "5cf973d2",
   "metadata": {},
   "outputs": [],
   "source": [
    "pdf_path = Path(r\"C:\\PE\\pages\\sample_folder_\\1.1.9.1-MANDATE_VincentGodard_2022 05 10-final.docx.pdf\")\n",
    "parser = PDFParser(pdf_path)"
   ]
  },
  {
   "cell_type": "code",
   "execution_count": 9,
   "id": "e1456e91",
   "metadata": {},
   "outputs": [],
   "source": [
    "new_classifier = document_classifier.DocumentClassifier(\n",
    "    llm_client=llm,\n",
    "    categories=categories)"
   ]
  },
  {
   "cell_type": "code",
   "execution_count": 10,
   "id": "c857cb4d",
   "metadata": {},
   "outputs": [
    {
     "name": "stdout",
     "output_type": "stream",
     "text": [
      "DocumentClassifier: Attempting classification using text from first 4 pages.\n",
      "DocumentClassifier: Classification with first N pages text was insufficient.\n",
      "DocumentClassifier: Attempting multimodal classification using first 4 page images (and text if available).\n",
      "DocumentClassifier: Multimodal classification was insufficient.\n",
      "DocumentClassifier: Final classification attempts failed. Type remains 'unknown_document_type'.\n",
      "DocumentClassifier: Proceeding to generate summary from first 10 pages for context.\n",
      "DocumentClassifier: Document type unknown. Generating summary for context...\n",
      "DocumentClassifier: Summary generated: This document is a formal \"Mandate Agreement\" between the Board of Directors of SYSTRAN SAS and Mr. Vincent Godard, detailing the terms of his appoint...\n"
     ]
    },
    {
     "data": {
      "text/plain": [
       "{'identified_doc_type': 'unknown_document_type',\n",
       " 'summary_for_context': 'This document is a formal \"Mandate Agreement\" between the Board of Directors of SYSTRAN SAS and Mr. Vincent Godard, detailing the terms of his appointment as the new President of the company, effective May 16th, 2022.\\n\\nThe agreement comprehensively outlines Mr. Godard\\'s executive compensation, including a fixed annual remuneration of €225,000, a variable bonus (up to €100,000), and an allotment of 60,000 free shares with specific vesting and performance conditions. It also specifies benefits such as a company vehicle, phone, and social security coverage, including executive health and welfare schemes, and company-subscribed loss of employment and CEO liability insurance.\\n\\nKey provisions address mandate termination: a one-month remunerated notice for revocation (except for serious misconduct) and a six-month remunerated notice for resignation. Significant severance packages are stipulated for revocation without fault, ranging from two years\\' total gross remuneration within the first 24 months to six months\\' compensation thereafter.\\n\\nFurther clauses cover operational aspects like global business travel expenses, up to five weeks of paid leave, and post-mandate restrictions. These include a one-year non-solicitation clause and a potential twelve-month non-compete clause (limited to French/US territories and direct competitors), which, if enforced, requires 50% of the last year\\'s total gross remuneration. The agreement is governed by French law and falls under the jurisdiction of the Paris Commercial Court.\\n\\nThe document\\'s overall nature is a legally binding executive contract, meticulously defining the rights, responsibilities, and financial arrangements for a top-tier corporate role.'}"
      ]
     },
     "execution_count": 10,
     "metadata": {},
     "output_type": "execute_result"
    }
   ],
   "source": [
    "new_classifier.classify_document_and_summarize_if_unknown(\n",
    "    pdf_parser=parser)"
   ]
  }
 ],
 "metadata": {
  "kernelspec": {
   "display_name": "llm-kg-extraction-qNCWWO7V-py3.12",
   "language": "python",
   "name": "python3"
  },
  "language_info": {
   "codemirror_mode": {
    "name": "ipython",
    "version": 3
   },
   "file_extension": ".py",
   "mimetype": "text/x-python",
   "name": "python",
   "nbconvert_exporter": "python",
   "pygments_lexer": "ipython3",
   "version": "3.12.10"
  }
 },
 "nbformat": 4,
 "nbformat_minor": 5
}
