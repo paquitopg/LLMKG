{
 "cells": [
  {
   "cell_type": "code",
   "execution_count": 7,
   "id": "ca460077",
   "metadata": {},
   "outputs": [],
   "source": [
    "from common_kg_utils import _are_companies_similar, _are_entities_similar_pekg, find_matching_entity_pekg, get_entity_primary_name, similarity_score"
   ]
  },
  {
   "cell_type": "code",
   "execution_count": 2,
   "id": "c59972e4",
   "metadata": {},
   "outputs": [],
   "source": [
    "entity_1 = {\n",
    "      \"id\": \"e127\",\n",
    "      \"type\": \"pekg:Company\",\n",
    "      \"name\": \"DECK\",\n",
    "      \"_source_page\": 18\n",
    "    }"
   ]
  },
  {
   "cell_type": "code",
   "execution_count": 19,
   "id": "fc956159",
   "metadata": {},
   "outputs": [],
   "source": [
    "entity_2 = list_entities_dic[0]"
   ]
  },
  {
   "cell_type": "code",
   "execution_count": 20,
   "id": "de3cae07",
   "metadata": {},
   "outputs": [
    {
     "name": "stdout",
     "output_type": "stream",
     "text": [
      "deck\n"
     ]
    }
   ],
   "source": [
    "name = get_entity_primary_name(entity_1)\n",
    "print(name)"
   ]
  },
  {
   "cell_type": "code",
   "execution_count": 4,
   "id": "c5c9e09a",
   "metadata": {},
   "outputs": [
    {
     "data": {
      "text/plain": [
       "{'id': 'e1',\n",
       " 'type': 'pekg:Company',\n",
       " 'name': [{'value': 'DECK', 'source_doc_id': 'Project_Deck_Teaser copy'}],\n",
       " 'description': [{'value': 'Company experiencing increased demand due to significant increase in threats and criticality of crises.',\n",
       "   'source_doc_id': 'Project_Deck_Teaser copy'}],\n",
       " 'growthStrategySummary': [{'value': 'augmenter le champ des prestations qu’elle propose, investir en moyens humains et techniques, et réaliser des opérations de croissance externe',\n",
       "   'source_doc_id': 'Project_Deck_Teaser copy'}],\n",
       " '_source_page': [{'value': 2, 'source_doc_id': 'Project_Deck_Teaser copy'}],\n",
       " '_source_document_ids': ['Project_Deck_Teaser copy']}"
      ]
     },
     "execution_count": 4,
     "metadata": {},
     "output_type": "execute_result"
    }
   ],
   "source": [
    "find_matching_entity_pekg(entity_1, list_entities_dic, 0.6)"
   ]
  },
  {
   "cell_type": "code",
   "execution_count": 16,
   "id": "2fdd91a9",
   "metadata": {},
   "outputs": [
    {
     "data": {
      "text/plain": [
       "0.5"
      ]
     },
     "execution_count": 16,
     "metadata": {},
     "output_type": "execute_result"
    }
   ],
   "source": [
    "str1 = \"Asia\"\n",
    "str2 = \"STIC\"\n",
    "similarity_score(str1, str2)"
   ]
  }
 ],
 "metadata": {
  "kernelspec": {
   "display_name": "llm-kg-extraction-qNCWWO7V-py3.12",
   "language": "python",
   "name": "python3"
  },
  "language_info": {
   "codemirror_mode": {
    "name": "ipython",
    "version": 3
   },
   "file_extension": ".py",
   "mimetype": "text/x-python",
   "name": "python",
   "nbconvert_exporter": "python",
   "pygments_lexer": "ipython3",
   "version": "3.12.10"
  }
 },
 "nbformat": 4,
 "nbformat_minor": 5
}
