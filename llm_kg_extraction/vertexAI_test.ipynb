{
 "cells": [
  {
   "cell_type": "code",
   "execution_count": 1,
   "id": "2f08c448",
   "metadata": {},
   "outputs": [
    {
     "name": "stderr",
     "output_type": "stream",
     "text": [
      "c:\\Users\\PacoGoze\\AppData\\Local\\pypoetry\\Cache\\virtualenvs\\llm-kg-extraction-qNCWWO7V-py3.12\\Lib\\site-packages\\tqdm\\auto.py:21: TqdmWarning: IProgress not found. Please update jupyter and ipywidgets. See https://ipywidgets.readthedocs.io/en/stable/user_install.html\n",
      "  from .autonotebook import tqdm as notebook_tqdm\n"
     ]
    },
    {
     "data": {
      "text/plain": [
       "True"
      ]
     },
     "execution_count": 1,
     "metadata": {},
     "output_type": "execute_result"
    }
   ],
   "source": [
    "from llm_client import VertexAIClient, AzureOpenAIClient\n",
    "from company_identifier import CompanyIdentifier\n",
    "from utils.pdf_utils import PDFProcessor\n",
    "\n",
    "from dotenv import load_dotenv\n",
    "from pathlib import Path\n",
    "import os\n",
    "\n",
    "load_dotenv()"
   ]
  },
  {
   "cell_type": "markdown",
   "id": "e2769386",
   "metadata": {},
   "source": [
    "## MODELS"
   ]
  },
  {
   "cell_type": "code",
   "execution_count": 24,
   "id": "0bd5d6a8",
   "metadata": {},
   "outputs": [
    {
     "name": "stdout",
     "output_type": "stream",
     "text": [
      "Initializing google.generativeai.GenerativeModel with model name: models/gemini-2.0-flash-001\n",
      " (Using ADC with GOOGLE_CLOUD_PROJECT='singular-backup-459913-j9' and location='us-central1')\n",
      "Successfully initialized google.generativeai.GenerativeModel for models/gemini-2.0-flash-001\n"
     ]
    }
   ],
   "source": [
    "model_name = \"gemini-2.0-flash-001\"\n",
    "llm = VertexAIClient(model_name=model_name)\n",
    "llm_provider = \"vertexai\""
   ]
  },
  {
   "cell_type": "code",
   "execution_count": 27,
   "id": "3dbc253b",
   "metadata": {},
   "outputs": [
    {
     "name": "stdout",
     "output_type": "stream",
     "text": [
      "Initializing google.generativeai.GenerativeModel with model name: models/gemini-2.5-flash-preview-04-17\n",
      " (Using ADC with GOOGLE_CLOUD_PROJECT='singular-backup-459913-j9' and location='us-central1')\n",
      "Successfully initialized google.generativeai.GenerativeModel for models/gemini-2.5-flash-preview-04-17\n"
     ]
    }
   ],
   "source": [
    "model_name = \"gemini-2.5-flash-preview-04-17\"\n",
    "llm = VertexAIClient(model_name=model_name)\n",
    "llm_provider = \"vertexai\""
   ]
  },
  {
   "cell_type": "code",
   "execution_count": 22,
   "id": "19407111",
   "metadata": {},
   "outputs": [],
   "source": [
    "model_name = \"gpt-4.1\"\n",
    "llm = AzureOpenAIClient(model_name=model_name)\n",
    "llm_provider = \"azure\""
   ]
  },
  {
   "cell_type": "markdown",
   "id": "775145ff",
   "metadata": {},
   "source": [
    "## PROJECT"
   ]
  },
  {
   "cell_type": "code",
   "execution_count": 28,
   "id": "e71785b6",
   "metadata": {},
   "outputs": [],
   "source": [
    "project_name = \"AIRELLE\"\n",
    "\n",
    "pdf_dir = Path(f\"C:/PE/pages/{project_name}\")\n",
    "pdf_path = pdf_dir / f\"Project_{project_name}_Teaser.pdf\"\n",
    "pdf_processor = PDFProcessor(pdf_path)\n",
    "deployment_name = os.getenv(\"AZURE_DEPLOYMENT_NAME_gpt-4.1\")"
   ]
  },
  {
   "cell_type": "markdown",
   "id": "9243b258",
   "metadata": {},
   "source": [
    "## TESTS"
   ]
  },
  {
   "cell_type": "code",
   "execution_count": 30,
   "id": "4fe7a0c9",
   "metadata": {},
   "outputs": [
    {
     "name": "stdout",
     "output_type": "stream",
     "text": [
      "Identifying companies from first and last pages of the document...\n",
      "\n",
      "Identified target company: Airelle\n",
      "Target company description: The main subject of the document, described as covering the Innovation & Systems activities of CNIM Group, detailed with its business and capabilities.\n",
      "\n",
      "Identified advisory firms:\n",
      "- Rothschild & Co (Prepared the document and is the contact point for potential investors.)\n",
      "\n",
      "Project codename: Airelle\n",
      "\n",
      "Company identification complete. Proceeding with knowledge graph extraction...\n",
      "\n"
     ]
    }
   ],
   "source": [
    "print(\"Identifying companies from first and last pages of the document...\")\n",
    "company_identifier = CompanyIdentifier(\n",
    "                llm_client_wrapper=llm,\n",
    "                llm_provider=llm_provider,\n",
    "                pdf_processor=pdf_processor,\n",
    "                azure_deployment_name=deployment_name if llm_provider == \"azure\" else None, # Pass deployment_name\n",
    "                pages_to_analyze=3\n",
    "            )\n",
    "companies_info = company_identifier.identify_companies(project_name)\n",
    "\n",
    "print(f\"\\nIdentified target company: {companies_info['target_company']['name']}\")\n",
    "print(f\"Target company description: {companies_info['target_company']['description']}\")\n",
    "print(f\"\\nIdentified advisory firms:\")\n",
    "for firm in companies_info['advisory_firms']:\n",
    "    print(f\"- {firm['name']} ({firm['role']})\")\n",
    "print(f\"\\nProject codename: {companies_info['project_codename']}\")\n",
    "print(\"\\nCompany identification complete. Proceeding with knowledge graph extraction...\\n\")"
   ]
  }
 ],
 "metadata": {
  "kernelspec": {
   "display_name": "llm-kg-extraction-qNCWWO7V-py3.12",
   "language": "python",
   "name": "python3"
  },
  "language_info": {
   "codemirror_mode": {
    "name": "ipython",
    "version": 3
   },
   "file_extension": ".py",
   "mimetype": "text/x-python",
   "name": "python",
   "nbconvert_exporter": "python",
   "pygments_lexer": "ipython3",
   "version": "3.12.10"
  }
 },
 "nbformat": 4,
 "nbformat_minor": 5
}
